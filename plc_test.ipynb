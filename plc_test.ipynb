{
 "cells": [
  {
   "cell_type": "code",
   "execution_count": 4,
   "metadata": {},
   "outputs": [
    {
     "name": "stderr",
     "output_type": "stream",
     "text": [
      "Requested session timeout to be 3600000ms, got 30000ms instead\n"
     ]
    }
   ],
   "source": [
    "from opcua import Client, ua\n",
    "client = Client('opc.tcp://192.168.0.1:4840')\n",
    "client.connect()"
   ]
  },
  {
   "cell_type": "code",
   "execution_count": 2,
   "metadata": {},
   "outputs": [
    {
     "ename": "KeyboardInterrupt",
     "evalue": "",
     "output_type": "error",
     "traceback": [
      "\u001b[0;31m---------------------------------------------------------------------------\u001b[0m",
      "\u001b[0;31mKeyboardInterrupt\u001b[0m                         Traceback (most recent call last)",
      "Cell \u001b[0;32mIn[2], line 23\u001b[0m\n\u001b[1;32m     21\u001b[0m         var \u001b[39m=\u001b[39m client\u001b[39m.\u001b[39mget_node(path_down)\n\u001b[1;32m     22\u001b[0m         value \u001b[39m=\u001b[39m ua\u001b[39m.\u001b[39mDataValue(ua\u001b[39m.\u001b[39mVariant(value_,ua\u001b[39m.\u001b[39mVariantType\u001b[39m.\u001b[39mBoolean))\n\u001b[0;32m---> 23\u001b[0m         var\u001b[39m.\u001b[39;49mset_value(value)\n\u001b[1;32m     26\u001b[0m         \u001b[39m# time.sleep(0.3)\u001b[39;00m\n\u001b[1;32m     27\u001b[0m \n\u001b[1;32m     28\u001b[0m \n\u001b[0;32m   (...)\u001b[0m\n\u001b[1;32m     34\u001b[0m \u001b[39m#     var.set_value(value)\u001b[39;00m\n\u001b[1;32m     35\u001b[0m     \u001b[39m# time.sleep(1)\u001b[39;00m\n",
      "File \u001b[0;32m~/.local/lib/python3.8/site-packages/opcua/common/node.py:217\u001b[0m, in \u001b[0;36mNode.set_value\u001b[0;34m(self, value, varianttype)\u001b[0m\n\u001b[1;32m    215\u001b[0m     datavalue \u001b[39m=\u001b[39m ua\u001b[39m.\u001b[39mDataValue(ua\u001b[39m.\u001b[39mVariant(value, varianttype))\n\u001b[1;32m    216\u001b[0m     datavalue\u001b[39m.\u001b[39mSourceTimestamp \u001b[39m=\u001b[39m datetime\u001b[39m.\u001b[39mutcnow()\n\u001b[0;32m--> 217\u001b[0m \u001b[39mself\u001b[39;49m\u001b[39m.\u001b[39;49mset_attribute(ua\u001b[39m.\u001b[39;49mAttributeIds\u001b[39m.\u001b[39;49mValue, datavalue)\n",
      "File \u001b[0;32m~/.local/lib/python3.8/site-packages/opcua/common/node.py:262\u001b[0m, in \u001b[0;36mNode.set_attribute\u001b[0;34m(self, attributeid, datavalue)\u001b[0m\n\u001b[1;32m    260\u001b[0m params \u001b[39m=\u001b[39m ua\u001b[39m.\u001b[39mWriteParameters()\n\u001b[1;32m    261\u001b[0m params\u001b[39m.\u001b[39mNodesToWrite \u001b[39m=\u001b[39m [attr]\n\u001b[0;32m--> 262\u001b[0m result \u001b[39m=\u001b[39m \u001b[39mself\u001b[39;49m\u001b[39m.\u001b[39;49mserver\u001b[39m.\u001b[39;49mwrite(params)\n\u001b[1;32m    263\u001b[0m result[\u001b[39m0\u001b[39m]\u001b[39m.\u001b[39mcheck()\n",
      "File \u001b[0;32m~/.local/lib/python3.8/site-packages/opcua/client/ua_client.py:367\u001b[0m, in \u001b[0;36mUaClient.write\u001b[0;34m(self, params)\u001b[0m\n\u001b[1;32m    365\u001b[0m request \u001b[39m=\u001b[39m ua\u001b[39m.\u001b[39mWriteRequest()\n\u001b[1;32m    366\u001b[0m request\u001b[39m.\u001b[39mParameters \u001b[39m=\u001b[39m params\n\u001b[0;32m--> 367\u001b[0m data \u001b[39m=\u001b[39m \u001b[39mself\u001b[39;49m\u001b[39m.\u001b[39;49m_uasocket\u001b[39m.\u001b[39;49msend_request(request)\n\u001b[1;32m    368\u001b[0m response \u001b[39m=\u001b[39m struct_from_binary(ua\u001b[39m.\u001b[39mWriteResponse, data)\n\u001b[1;32m    369\u001b[0m \u001b[39mself\u001b[39m\u001b[39m.\u001b[39mlogger\u001b[39m.\u001b[39mdebug(response)\n",
      "File \u001b[0;32m~/.local/lib/python3.8/site-packages/opcua/client/ua_client.py:83\u001b[0m, in \u001b[0;36mUASocketClient.send_request\u001b[0;34m(self, request, callback, timeout, message_type)\u001b[0m\n\u001b[1;32m     81\u001b[0m future \u001b[39m=\u001b[39m \u001b[39mself\u001b[39m\u001b[39m.\u001b[39m_send_request(request, callback, timeout, message_type)\n\u001b[1;32m     82\u001b[0m \u001b[39mif\u001b[39;00m \u001b[39mnot\u001b[39;00m callback:\n\u001b[0;32m---> 83\u001b[0m     data \u001b[39m=\u001b[39m future\u001b[39m.\u001b[39;49mresult(\u001b[39mself\u001b[39;49m\u001b[39m.\u001b[39;49mtimeout)\n\u001b[1;32m     84\u001b[0m     \u001b[39mself\u001b[39m\u001b[39m.\u001b[39mcheck_answer(data, \u001b[39m\"\u001b[39m\u001b[39m in response to \u001b[39m\u001b[39m\"\u001b[39m \u001b[39m+\u001b[39m request\u001b[39m.\u001b[39m\u001b[39m__class__\u001b[39m\u001b[39m.\u001b[39m\u001b[39m__name__\u001b[39m)\n\u001b[1;32m     85\u001b[0m     \u001b[39mreturn\u001b[39;00m data\n",
      "File \u001b[0;32m/usr/lib/python3.8/concurrent/futures/_base.py:439\u001b[0m, in \u001b[0;36mFuture.result\u001b[0;34m(self, timeout)\u001b[0m\n\u001b[1;32m    436\u001b[0m \u001b[39melif\u001b[39;00m \u001b[39mself\u001b[39m\u001b[39m.\u001b[39m_state \u001b[39m==\u001b[39m FINISHED:\n\u001b[1;32m    437\u001b[0m     \u001b[39mreturn\u001b[39;00m \u001b[39mself\u001b[39m\u001b[39m.\u001b[39m__get_result()\n\u001b[0;32m--> 439\u001b[0m \u001b[39mself\u001b[39;49m\u001b[39m.\u001b[39;49m_condition\u001b[39m.\u001b[39;49mwait(timeout)\n\u001b[1;32m    441\u001b[0m \u001b[39mif\u001b[39;00m \u001b[39mself\u001b[39m\u001b[39m.\u001b[39m_state \u001b[39min\u001b[39;00m [CANCELLED, CANCELLED_AND_NOTIFIED]:\n\u001b[1;32m    442\u001b[0m     \u001b[39mraise\u001b[39;00m CancelledError()\n",
      "File \u001b[0;32m/usr/lib/python3.8/threading.py:306\u001b[0m, in \u001b[0;36mCondition.wait\u001b[0;34m(self, timeout)\u001b[0m\n\u001b[1;32m    304\u001b[0m \u001b[39melse\u001b[39;00m:\n\u001b[1;32m    305\u001b[0m     \u001b[39mif\u001b[39;00m timeout \u001b[39m>\u001b[39m \u001b[39m0\u001b[39m:\n\u001b[0;32m--> 306\u001b[0m         gotit \u001b[39m=\u001b[39m waiter\u001b[39m.\u001b[39;49macquire(\u001b[39mTrue\u001b[39;49;00m, timeout)\n\u001b[1;32m    307\u001b[0m     \u001b[39melse\u001b[39;00m:\n\u001b[1;32m    308\u001b[0m         gotit \u001b[39m=\u001b[39m waiter\u001b[39m.\u001b[39macquire(\u001b[39mFalse\u001b[39;00m)\n",
      "\u001b[0;31mKeyboardInterrupt\u001b[0m: "
     ]
    }
   ],
   "source": [
    "# ns=4;i=7 False   MemDownProjectorOnOff1   until 'ns=4;i=12'\n",
    "#down projector\n",
    "import cv2\n",
    "import time\n",
    "pathes_up = ['ns=4;i=7','ns=4;i=9','ns=4;i=8','ns=4;i=10','ns=4;i=12','ns=4;i=11']\n",
    "pathes_down = ['ns=4;i=28','ns=4;i=31','ns=4;i=29','ns=4;i=33','ns=4;i=30','ns=4;i=32']\n",
    "value_= False\n",
    "\n",
    "for i in range(30):\n",
    "\n",
    "    # value_ = not(value_)\n",
    "    value_ = True\n",
    "\n",
    "    for (path_up,path_down) in zip(pathes_up,pathes_down):\n",
    "\n",
    "        # print(path)\n",
    "        var = client.get_node(path_up)\n",
    "        value = ua.DataValue(ua.Variant(value_,ua.VariantType.Boolean))\n",
    "        var.set_value(value)\n",
    "\n",
    "        var = client.get_node(path_down)\n",
    "        value = ua.DataValue(ua.Variant(value_,ua.VariantType.Boolean))\n",
    "        var.set_value(value)\n",
    "\n",
    "\n",
    "        # time.sleep(0.3)\n",
    "\n",
    "\n",
    "# for path in pathes:\n",
    "\n",
    "#     # print(path)\n",
    "#     var = client.get_node(path)\n",
    "#     value = ua.DataValue(ua.Variant(value_,ua.VariantType.Boolean))\n",
    "#     var.set_value(value)\n",
    "    # time.sleep(1)"
   ]
  },
  {
   "cell_type": "code",
   "execution_count": 6,
   "metadata": {},
   "outputs": [],
   "source": [
    "#down  projector\n",
    "\n",
    "pathes_up = ['ns=4;i=28','ns=4;i=31','ns=4;i=29','ns=4;i=33','ns=4;i=30','ns=4;i=32']\n",
    "\n",
    "value_ = True\n",
    "\n",
    "for path in pathes_up:\n",
    "\n",
    "    # print(i)\n",
    "    var = client.get_node(path)\n",
    "    value = ua.DataValue(ua.Variant(value_,ua.VariantType.Boolean))\n",
    "    var.set_value(value)\n",
    "    # cv2.waitKey(1000)\n"
   ]
  },
  {
   "cell_type": "code",
   "execution_count": 3,
   "metadata": {},
   "outputs": [
    {
     "name": "stderr",
     "output_type": "stream",
     "text": [
      "exception calling callback for <Future at 0x7f1639377ee0 state=cancelled>\n",
      "Traceback (most recent call last):\n",
      "  File \"/usr/lib/python3.8/concurrent/futures/_base.py\", line 328, in _invoke_callbacks\n",
      "    callback(self)\n",
      "  File \"/home/dorsa/.local/lib/python3.8/site-packages/opcua/client/ua_client.py\", line 201, in clb\n",
      "    response = struct_from_binary(ua.OpenSecureChannelResponse, future.result())\n",
      "  File \"/usr/lib/python3.8/concurrent/futures/_base.py\", line 435, in result\n",
      "    raise CancelledError()\n",
      "concurrent.futures._base.CancelledError\n"
     ]
    }
   ],
   "source": [
    "#down  projector\n",
    "\n",
    "pathes_down = ['ns=4;i=7','ns=4;i=9','ns=4;i=8','ns=4;i=10','ns=4;i=12','ns=4;i=11']\n",
    "\n",
    "value_ = True\n",
    "\n",
    "for path in pathes_down:\n",
    "\n",
    "    # print(i)\n",
    "    var = client.get_node(path)\n",
    "    value = ua.DataValue(ua.Variant(value_,ua.VariantType.Boolean))\n",
    "    var.set_value(value)\n",
    "    # cv2.waitKey(1000)"
   ]
  },
  {
   "cell_type": "code",
   "execution_count": null,
   "metadata": {},
   "outputs": [],
   "source": []
  }
 ],
 "metadata": {
  "kernelspec": {
   "display_name": "Python 3",
   "language": "python",
   "name": "python3"
  },
  "language_info": {
   "codemirror_mode": {
    "name": "ipython",
    "version": 3
   },
   "file_extension": ".py",
   "mimetype": "text/x-python",
   "name": "python",
   "nbconvert_exporter": "python",
   "pygments_lexer": "ipython3",
   "version": "3.8.10"
  },
  "orig_nbformat": 4
 },
 "nbformat": 4,
 "nbformat_minor": 2
}
